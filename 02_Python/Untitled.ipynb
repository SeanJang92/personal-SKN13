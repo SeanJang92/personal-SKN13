{
 "cells": [
  {
   "cell_type": "code",
   "execution_count": 9,
   "id": "6a9aa133-1d2b-4c8d-bbbe-e16a06c76fa1",
   "metadata": {},
   "outputs": [],
   "source": [
    "class Account:\n",
    "    def __init__(self, name, balance):\n",
    "        self.name = name\n",
    "        self.balance = balance\n",
    "\n",
    "    def check_status(self):\n",
    "        if self.balance == 0:\n",
    "            return(f\"{self.name}님, 잔액이 부족합니다.\")\n",
    "        else:\n",
    "            return(f\"{self.name}님, 계좌에 {self.balance}원이 있습니다.\")\n",
    "\n",
    "hong = Account(\"홍길동\", 5000)\n",
    "kim = Account(\"김영희\", 0)"
   ]
  },
  {
   "cell_type": "code",
   "execution_count": 13,
   "id": "db80d119-1a80-464d-9b3c-c99052c6dead",
   "metadata": {},
   "outputs": [
    {
     "name": "stdout",
     "output_type": "stream",
     "text": [
      "홍길동님, 계좌에 5000원이 있습니다.\n"
     ]
    }
   ],
   "source": [
    "print(hong.check_status())"
   ]
  },
  {
   "cell_type": "code",
   "execution_count": 14,
   "id": "5693bdf3-693e-4765-baff-26ab89d2a680",
   "metadata": {},
   "outputs": [
    {
     "name": "stdout",
     "output_type": "stream",
     "text": [
      "김영희님, 잔액이 부족합니다.\n"
     ]
    }
   ],
   "source": [
    "print(kim.check_status())\n"
   ]
  },
  {
   "cell_type": "code",
   "execution_count": null,
   "id": "5ee76707-49de-4737-91a4-872faa6b21a3",
   "metadata": {},
   "outputs": [],
   "source": []
  },
  {
   "cell_type": "code",
   "execution_count": 26,
   "id": "6f90a4af-3a4b-412f-9924-2ea5461d0f4d",
   "metadata": {},
   "outputs": [
    {
     "name": "stdout",
     "output_type": "stream",
     "text": [
      "<__main__.Animal object at 0x000001E2DD264F20>\n",
      "제 이름은 뽀삐입니다.\n"
     ]
    }
   ],
   "source": [
    "class Animal:\n",
    "    def __init__(self, name):\n",
    "        self.name = name\n",
    "\n",
    "    def who_am_i(self):\n",
    "        print(self)\n",
    "        return(f\"제 이름은 {self.name}입니다.\")\n",
    "\n",
    "my_name = Animal(\"뽀삐\")\n",
    "print(my_name.who_am_i())\n"
   ]
  },
  {
   "cell_type": "code",
   "execution_count": null,
   "id": "725570cf-56ad-4560-9b34-7f8789e7653c",
   "metadata": {},
   "outputs": [],
   "source": []
  },
  {
   "cell_type": "code",
   "execution_count": 31,
   "id": "b6ea4452-d3e5-426d-8d4b-f2c7112a88cd",
   "metadata": {},
   "outputs": [
    {
     "name": "stdout",
     "output_type": "stream",
     "text": [
      "원을 그립니다.\n",
      "사각형을 그립니다.\n"
     ]
    }
   ],
   "source": [
    "class Shape:\n",
    "    def draw(self):\n",
    "        print(\"도형을 그립니다.\")\n",
    "\n",
    "class Circle(Shape):\n",
    "    def draw(self):\n",
    "        print(\"원을 그립니다.\")\n",
    "\n",
    "class Square(Shape):\n",
    "    def draw(self):\n",
    "        print(\"사각형을 그립니다.\")\n",
    "\n",
    "shapes = [Circle(), Square()]\n",
    "for shape in shapes:\n",
    "    shape.draw()"
   ]
  },
  {
   "cell_type": "code",
   "execution_count": null,
   "id": "1b9fb5dc-9b9f-4cb0-817f-a922fcd490e4",
   "metadata": {},
   "outputs": [],
   "source": []
  }
 ],
 "metadata": {
  "kernelspec": {
   "display_name": "Python 3 (ipykernel)",
   "language": "python",
   "name": "python3"
  },
  "language_info": {
   "codemirror_mode": {
    "name": "ipython",
    "version": 3
   },
   "file_extension": ".py",
   "mimetype": "text/x-python",
   "name": "python",
   "nbconvert_exporter": "python",
   "pygments_lexer": "ipython3",
   "version": "3.12.9"
  }
 },
 "nbformat": 4,
 "nbformat_minor": 5
}
