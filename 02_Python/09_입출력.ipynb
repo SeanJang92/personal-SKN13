{
 "cells": [
  {
   "cell_type": "markdown",
   "metadata": {
    "slideshow": {
     "slide_type": "slide"
    }
   },
   "source": [
    "# Path (경로)\n",
    "\n",
    "- **경로(Path)**\n",
    "    - 프로그램에서 사용할 **자원의 위치를 path(경로)** 라고 한다.\n",
    "    - **파일 시스템**에서는 파일이나 디렉토리가 있는 위치의 경로를 말한다.\n",
    "    "
   ]
  },
  {
   "cell_type": "markdown",
   "metadata": {
    "slideshow": {
     "slide_type": "slide"
    }
   },
   "source": [
    "- **절대경로**\n",
    "    - 자원의 전체 경로를 표현하는 방식\n",
    "    - 시작 경로부터 자원(파일, 디렉토리)이 있는 위치까지 표현한다.\n",
    "        - 시작 경로: Root Path\n",
    "            - windows: `c:`, `d:`\n",
    "            - Unix, Linux: `/`"
   ]
  },
  {
   "cell_type": "markdown",
   "metadata": {
    "slideshow": {
     "slide_type": "fragment"
    }
   },
   "source": [
    "- **상대경로**\n",
    "    - 현재 작업 경로(위치)에서 부터 자원이 있는 위치까지 표현한다.\n",
    "        - 시작 경로: 현재 작업경로\n",
    "    - 구문\n",
    "        - `.` : 현재 디렉토리\n",
    "        - `..`: 상위 디렉토리\n",
    "        - `/` : 경로 구분자,  상위경로/하위경로"
   ]
  },
  {
   "cell_type": "markdown",
   "metadata": {
    "slideshow": {
     "slide_type": "fragment"
    }
   },
   "source": [
    "- 운영체제(O/S)별 경로구분자\n",
    "    - 윈도우즈: `\\` (역슬래쉬)\n",
    "    - 리눅스/유닉스: `/` (슬래쉬)"
   ]
  },
  {
   "cell_type": "code",
   "execution_count": 1,
   "metadata": {},
   "outputs": [
    {
     "data": {
      "text/plain": [
       "'C:\\\\Documents\\\\SKN13\\\\02_Python'"
      ]
     },
     "execution_count": 1,
     "metadata": {},
     "output_type": "execute_result"
    }
   ],
   "source": [
    "# 현재 디렉토리(working directory) 확인 -> 프로그램을 실행시킨 디렉토리.\n",
    "import os\n",
    "os.getcwd()   # current working directory"
   ]
  },
  {
   "cell_type": "code",
   "execution_count": 2,
   "metadata": {},
   "outputs": [],
   "source": [
    "# working directory 를 변경.\n",
    "os.chdir(\"mypackage\")"
   ]
  },
  {
   "cell_type": "code",
   "execution_count": 3,
   "metadata": {
    "scrolled": true
   },
   "outputs": [
    {
     "data": {
      "text/plain": [
       "'C:\\\\Documents\\\\SKN13\\\\02_Python\\\\mypackage'"
      ]
     },
     "execution_count": 3,
     "metadata": {},
     "output_type": "execute_result"
    }
   ],
   "source": [
    "os.getcwd() "
   ]
  },
  {
   "cell_type": "code",
   "execution_count": 4,
   "metadata": {
    "slideshow": {
     "slide_type": "fragment"
    }
   },
   "outputs": [],
   "source": [
    "os.chdir(r\"c:\\temp\")"
   ]
  },
  {
   "cell_type": "code",
   "execution_count": 5,
   "metadata": {},
   "outputs": [
    {
     "data": {
      "text/plain": [
       "'c:\\\\temp'"
      ]
     },
     "execution_count": 5,
     "metadata": {},
     "output_type": "execute_result"
    }
   ],
   "source": [
    "os.getcwd()"
   ]
  },
  {
   "cell_type": "code",
   "execution_count": 6,
   "metadata": {},
   "outputs": [],
   "source": [
    "os.chdir('C:\\\\Documents\\\\SKN13\\\\02_Python')"
   ]
  },
  {
   "cell_type": "code",
   "execution_count": 7,
   "metadata": {},
   "outputs": [
    {
     "data": {
      "text/plain": [
       "'C:\\\\Documents\\\\SKN13\\\\02_Python'"
      ]
     },
     "execution_count": 7,
     "metadata": {},
     "output_type": "execute_result"
    }
   ],
   "source": [
    "os.getcwd()"
   ]
  },
  {
   "cell_type": "code",
   "execution_count": 8,
   "metadata": {},
   "outputs": [],
   "source": [
    "os.mkdir(\"new_dir\")"
   ]
  },
  {
   "cell_type": "code",
   "execution_count": 9,
   "metadata": {},
   "outputs": [],
   "source": [
    "os.rmdir(\"new_dir\")"
   ]
  },
  {
   "cell_type": "markdown",
   "metadata": {
    "slideshow": {
     "slide_type": "slide"
    }
   },
   "source": [
    "# 입출력 (IO)\n",
    "\n",
    "## 입출력이란\n",
    "- 프로그램이 사용하려는 외부 자원을 연결하여 데이터를 입력 받거나 출력하는 작업을 IO라고 한다.\n",
    "- 외부 자원\n",
    "    - 파일, 원격지 컴퓨터(Network으로 연결된 컴퓨터의 자원), 데이터베이스 등.\n",
    "- **Stream**\n",
    "    - 입출력 시 **데이터의 흐름을 stream** 이라고 한다.\n",
    "- InputStream \n",
    "    - Program이 외부로 부터 데이터를 읽어 들이는 흐름.\n",
    "- OutputStream \n",
    "    - Program이 외부로 데이터를 써주는 흐름.\n",
    "\n",
    "\n",
    "![io](images/ch09_01.png)"
   ]
  },
  {
   "cell_type": "markdown",
   "metadata": {
    "slideshow": {
     "slide_type": "subslide"
    }
   },
   "source": [
    "## IO 코딩 순서\n",
    "![순서](images/ch09_02.png)"
   ]
  },
  {
   "cell_type": "markdown",
   "metadata": {
    "slideshow": {
     "slide_type": "subslide"
    }
   },
   "source": [
    "### 파일 열기(연결)\n",
    "- open() 함수 사용\n",
    "    - 연결된 파일과 입출력 메소드를 제공하는 객체(Stream)를 리턴\n",
    "- 구문\n",
    "    - `open(file, mode='r', encoding=None)`\n",
    "    - 함수 주요 매개변수\n",
    "        - file : 연결할 파일 경로\n",
    "        - mode : 열기 모드\n",
    "            - mode는 목적, 데이터종류를 조합한 문자열을 사용한다.\n",
    "        - encoding \n",
    "            - 입출력 대상이 **텍스트 파일일 경우** 인코딩 방식 설정\n",
    "            - 생략하면  **os 기본 encoding방식을 따른다.**\n",
    "                - Windows: cp949/euckr\n",
    "                - Linux, Unix: utf-8\n",
    "|mode타입|mode문자|설명|\n",
    "|:-|-|-|\n",
    "|목적|r|읽기 모드-목적의 기본 모드|\n",
    "||w|새로 쓰기 모드|\n",
    "||a|이어 쓰기 모드|\n",
    "||x|새로 쓰기모드-연결하려는 파일이 있으면 Exception발생|\n",
    "|데이터종류|b|binary 모드|\n",
    "||t|Text모드-text데이터 입출력시 사용|\n",
    "    "
   ]
  },
  {
   "cell_type": "markdown",
   "metadata": {
    "slideshow": {
     "slide_type": "subslide"
    }
   },
   "source": [
    "### 출력 메소드\n",
    "\n",
    "- write(출력할 Data)\n",
    "    - 연결된 파일에 `출력할 Data` 출력한다.\n",
    "- writelines(문자열을 가진 컬렉션)\n",
    "    - 리스트, 튜플, 집합이 원소로 가진 문자열들을 한번에 출력한다.\n",
    "    - text 출력일 경우에만 사용가능.\n",
    "    - 원소에 문자열 이외의 타입의 값이 있을 경우 TypeError 발생"
   ]
  },
  {
   "cell_type": "code",
   "execution_count": null,
   "metadata": {
    "slideshow": {
     "slide_type": "fragment"
    }
   },
   "outputs": [],
   "source": []
  },
  {
   "cell_type": "markdown",
   "metadata": {
    "slideshow": {
     "slide_type": "slide"
    }
   },
   "source": [
    "### 입력 메소드\n",
    "- read() : 문자열(text mode), bytes(binary mode) \n",
    "    - 연결된 파일의 내용을 한번에 모두 읽어 들인다.\n",
    "- readline() : 문자열(text mode), bytes(binary mode)\n",
    "    - 한 줄만 읽는다.\n",
    "    - text 입력일 경우만 사용가능\n",
    "    - 읽은 라인이 없으면 **빈문자열**을 리턴한다.\n",
    "- readlines() : 리스트\n",
    "    - 한번에 다 읽은 뒤 각각의 라인을 리스트에 원소로 담아 반환한다.\n",
    "- Text Input Stream (TextIOWrapper, BufferedReader)은 Iterable 타입.\n",
    "    - for문을 이용한 라인단위 순차 조회할 수 있다."
   ]
  },
  {
   "cell_type": "code",
   "execution_count": 46,
   "metadata": {},
   "outputs": [],
   "source": [
    "# a.txt 파일에 문자열을 출력하는 코드.\n",
    "# 1. 연결\n",
    "fw = open(\"./a.txt\", \"wt\", encoding=\"utf-8\")\n",
    "# fw = open(\"./a.txt\", \"at\", encoding=\"utf-8\")\n",
    "# fw = open(\"./a.txt\", \"xt\", encoding=\"utf-8\")\n",
    "# print(type(fw))\n",
    "# 2. 출력(쓰기)\n",
    "fw.write(\"안녕하세요\\n\")\n",
    "fw.write(\"Hello World!\")\n",
    "# 3. 연결 닫기\n",
    "fw.close()"
   ]
  },
  {
   "cell_type": "code",
   "execution_count": 47,
   "metadata": {},
   "outputs": [],
   "source": [
    "text_list = [\"안녕하세요.\\n\", \"반갑습니다.\\n\", \"날씨가 좋아요.\"]\n",
    "fw2 = open(r\"c:\\temp\\b.txt\", \"wt\", encoding='utf-8')  #연결\n",
    "# for txt in text_list:  # 쓰기\n",
    "#     fw2.write(txt)\n",
    "fw2.writelines(text_list)\n",
    "fw2.close()   # 연결닫기"
   ]
  },
  {
   "cell_type": "code",
   "execution_count": null,
   "metadata": {},
   "outputs": [],
   "source": []
  },
  {
   "cell_type": "code",
   "execution_count": 49,
   "metadata": {},
   "outputs": [],
   "source": [
    "# a.txt 의 내용을 읽기\n",
    "fr = open(\"./a.txt\", \"rt\", encoding=\"utf-8\")  # 연결 - encoding: utf-8 , cp949\n",
    "txt = fr.read()\n",
    "fr.close() # 연결 닫기"
   ]
  },
  {
   "cell_type": "code",
   "execution_count": 51,
   "metadata": {},
   "outputs": [
    {
     "name": "stdout",
     "output_type": "stream",
     "text": [
      "안녕하세요\n",
      "Hello World!\n"
     ]
    }
   ],
   "source": [
    "print(txt)"
   ]
  },
  {
   "cell_type": "code",
   "execution_count": 53,
   "metadata": {},
   "outputs": [
    {
     "name": "stdout",
     "output_type": "stream",
     "text": [
      "['안녕하세요.\\n', '반갑습니다.\\n', '날씨가 좋아요.']\n"
     ]
    }
   ],
   "source": [
    "fr2 = open(r\"c:\\temp\\b.txt\", mode='rt', encoding=\"utf-8\")\n",
    "\n",
    "# txt = fr2.read() # 한번에 다 읽기\n",
    "txt = fr2.readlines() # 한번에 다 읽기 -> 라인단위로 끊어서 list에 담아 반환\n",
    "print(txt)\n",
    "\n",
    "fr2.close()"
   ]
  },
  {
   "cell_type": "code",
   "execution_count": 56,
   "metadata": {},
   "outputs": [
    {
     "name": "stdout",
     "output_type": "stream",
     "text": [
      "안녕하세요.\n",
      "\n",
      "반갑습니다.\n",
      "\n",
      "날씨가 좋아요.\n",
      "\n"
     ]
    }
   ],
   "source": [
    "fr3 = open(r\"c:\\temp\\b.txt\", mode='rt', encoding=\"utf-8\")\n",
    "\n",
    "print(fr3.readline()) # 한줄 read\n",
    "print(fr3.readline()) # (다음) 한줄을 read\n",
    "print(fr3.readline()) # (다음) 한줄을 read\n",
    "print(fr3.readline()) # (다음) 한줄을 read -> 읽을 것이 없으면(EOF-End Of File) None 반환.\n",
    "fr3.close()"
   ]
  },
  {
   "cell_type": "code",
   "execution_count": 59,
   "metadata": {},
   "outputs": [
    {
     "name": "stdout",
     "output_type": "stream",
     "text": [
      "1 안녕하세요.\n",
      "2 반갑습니다.\n",
      "3 날씨가 좋아요.\n"
     ]
    }
   ],
   "source": [
    "fr4 = open(r\"c:\\temp\\b.txt\", mode='rt', encoding=\"utf-8\")\n",
    "\n",
    "for num, line in enumerate(fr4, start=1):\n",
    "    print(num, line.strip())\n",
    "\n",
    "fr4.close()"
   ]
  },
  {
   "cell_type": "code",
   "execution_count": null,
   "metadata": {
    "slideshow": {
     "slide_type": "fragment"
    }
   },
   "outputs": [],
   "source": []
  },
  {
   "cell_type": "markdown",
   "metadata": {
    "slideshow": {
     "slide_type": "slide"
    }
   },
   "source": [
    "## with block\n",
    "\n",
    "파일과 입출력 작업이 다 끝나면 반드시 연결을 닫아야 한다. 매번 연결을 닫는 작업을 하는 것이 번거롭고 실수로 안 닫을 경우 문제가 생길 수 있다. **with block은 block을 벗어나면 자동으로 연결을 닫아 준다.** 그래서 연결을 닫는 코드를 생략할 수 있다.\n",
    "\n",
    "- 구문\n",
    "```python\n",
    "with open() as 변수: # `변수`는 open()이 반환하는 Stream객체를 참조한다.\n",
    "    입출력 작업      # 변수를 이용해 입출력 작업을 처리한다.\n",
    "# with block을 빠져 나오면 close()가 자동으로 실행된다.\n",
    "```"
   ]
  },
  {
   "cell_type": "code",
   "execution_count": null,
   "metadata": {},
   "outputs": [],
   "source": [
<<<<<<< HEAD
    "fr = open(\"./a.txt\",\"rt\", encoding=\"utf-8\")\n",
    "\n",
    "txt = fr.read()\n",
    "\n",
    "fr.close()"
=======
    "fr = open(\"./a.txt\", \"rt\", encoding=\"utf-8\")  # 연결 - encoding: utf-8 , cp949\n",
    "\n",
    "txt = fr.read()\n",
    "\n",
    "fr.close() # 연결 닫기"
>>>>>>> adbdda0e1d89985f4defa8c8a437c99bc1991b97
   ]
  },
  {
   "cell_type": "code",
<<<<<<< HEAD
   "execution_count": 1,
=======
   "execution_count": 61,
   "metadata": {},
   "outputs": [
    {
     "name": "stdout",
     "output_type": "stream",
     "text": [
      "안녕하세요\n",
      "Hello World!\n",
      "종료\n"
     ]
    }
   ],
   "source": [
    "# with block을 이용할 수 있는 객체를 context manager라고 한다.\n",
    "with open(\"./a.txt\", \"rt\", encoding=\"utf-8\") as fr:\n",
    "    txt = fr.read()\n",
    "    print(txt)\n",
    "# with block이 끝나면 io.close()가 자동으로 실행된다.\n",
    "print(\"종료\")"
   ]
  },
  {
   "cell_type": "code",
   "execution_count": null,
   "metadata": {},
   "outputs": [],
   "source": []
  },
  {
   "cell_type": "code",
   "execution_count": null,
>>>>>>> adbdda0e1d89985f4defa8c8a437c99bc1991b97
   "metadata": {
    "scrolled": true
   },
   "outputs": [
    {
     "name": "stdout",
     "output_type": "stream",
     "text": [
      "anaconda-anon-usage @ file:///C:/b/abs_e8r_zga7xy/croot/anaconda-anon-usage_1732732454901/work\n",
      "annotated-types @ file:///C:/b/abs_0dmaoyhhj3/croot/annotated-types_1709542968311/work\n",
      "anyio==4.9.0\n",
      "archspec @ file:///croot/archspec_1709217642129/work\n",
      "argon2-cffi==23.1.0\n",
      "argon2-cffi-bindings==21.2.0\n",
      "arrow==1.3.0\n",
      "asttokens==3.0.0\n",
      "async-lru==2.0.5\n",
      "attrs==25.3.0\n",
      "babel==2.17.0\n",
      "beautifulsoup4==4.13.3\n",
      "bleach==6.2.0\n",
      "boltons @ file:///C:/b/abs_45_52ughkz/croot/boltons_1737061711836/work\n",
      "Brotli @ file:///C:/b/abs_c415aux9ra/croot/brotli-split_1736182803933/work\n",
      "certifi @ file:///C:/b/abs_8a944p1_gn/croot/certifi_1738623753421/work/certifi\n",
      "cffi @ file:///C:/b/abs_29_b57if3f/croot/cffi_1736184144340/work\n",
      "charset-normalizer @ file:///croot/charset-normalizer_1721748349566/work\n",
      "colorama @ file:///C:/Users/dev-admin/perseverance-python-buildout/croot/colorama_1699472650914/work\n",
      "comm==0.2.2\n",
      "conda @ file:///C:/b/abs_12ybmrg1d4/croot/conda_1738168389704/work\n",
      "conda-anaconda-telemetry @ file:///C:/b/abs_4c9llcc5ob/croot/conda-anaconda-telemetry_1736524617431/work\n",
      "conda-anaconda-tos @ file:///C:/b/abs_ceeuq0lee_/croot/conda-anaconda-tos_1739299022910/work\n",
      "conda-content-trust @ file:///C:/b/abs_bdfatn_wzf/croot/conda-content-trust_1714483201909/work\n",
      "conda-libmamba-solver @ file:///croot/conda-libmamba-solver_1737733694612/work/src\n",
      "conda-package-handling @ file:///C:/b/abs_7fz3aferfv/croot/conda-package-handling_1731369038903/work\n",
      "conda_package_streaming @ file:///C:/b/abs_bdz9vbvbh2/croot/conda-package-streaming_1731366449946/work\n",
      "contourpy==1.3.1\n",
      "cryptography @ file:///C:/b/abs_e2lzchf4i6/croot/cryptography_1732130411942/work\n",
      "cycler==0.12.1\n",
      "debugpy==1.8.13\n",
      "decorator==5.2.1\n",
      "defusedxml==0.7.1\n",
      "distro @ file:///C:/b/abs_71xr36ua5r/croot/distro_1714488282676/work\n",
      "executing==2.2.0\n",
      "fastjsonschema==2.21.1\n",
      "fonttools==4.56.0\n",
      "fqdn==1.5.1\n",
      "frozendict @ file:///C:/b/abs_2alamqss6p/croot/frozendict_1713194885124/work\n",
      "h11==0.14.0\n",
      "httpcore==1.0.7\n",
      "httpx==0.28.1\n",
      "idna @ file:///C:/b/abs_aad84bnnw5/croot/idna_1714398896795/work\n",
      "ipykernel==6.29.5\n",
      "ipython==9.0.2\n",
      "ipython_pygments_lexers==1.1.1\n",
      "isoduration==20.11.0\n",
      "jedi==0.19.2\n",
      "Jinja2==3.1.6\n",
      "json5==0.10.0\n",
      "jsonpatch @ file:///C:/b/abs_4fdm88t7zi/croot/jsonpatch_1714483974578/work\n",
      "jsonpointer==2.1\n",
      "jsonschema==4.23.0\n",
      "jsonschema-specifications==2024.10.1\n",
      "jupyter-events==0.12.0\n",
      "jupyter-lsp==2.2.5\n",
      "jupyter_client==8.6.3\n",
      "jupyter_core==5.7.2\n",
      "jupyter_server==2.15.0\n",
      "jupyter_server_terminals==0.5.3\n",
      "jupyterlab==4.3.6\n",
      "jupyterlab_pygments==0.3.0\n",
      "jupyterlab_server==2.27.3\n",
      "kiwisolver==1.4.8\n",
      "libmambapy @ file:///C:/b/abs_627vsv8bhu/croot/mamba-split_1734469608328/work/libmambapy\n",
      "markdown-it-py @ file:///C:/Users/dev-admin/perseverance-python-buildout/croot/markdown-it-py_1699473886965/work\n",
      "MarkupSafe==3.0.2\n",
      "matplotlib==3.10.1\n",
      "matplotlib-inline==0.1.7\n",
      "mdurl @ file:///C:/Users/dev-admin/perseverance-python-buildout/croot/mdurl_1699473506455/work\n",
      "menuinst @ file:///C:/b/abs_fblttj5gp1/croot/menuinst_1738943438301/work\n",
      "mistune==3.1.3\n",
      "nbclient==0.10.2\n",
      "nbconvert==7.16.6\n",
      "nbformat==5.10.4\n",
      "nest-asyncio==1.6.0\n",
      "notebook_shim==0.2.4\n",
      "numpy==2.2.4\n",
      "overrides==7.7.0\n",
      "packaging @ file:///C:/b/abs_3by6s2fa66/croot/packaging_1734472138782/work\n",
      "pandas==2.2.3\n",
      "pandocfilters==1.5.1\n",
      "parso==0.8.4\n",
      "pillow==11.1.0\n",
      "platformdirs @ file:///C:/Users/dev-admin/perseverance-python-buildout/croot/platformdirs_1701797392447/work\n",
      "pluggy @ file:///C:/b/abs_dfec_m79vo/croot/pluggy_1733170145382/work\n",
      "prometheus_client==0.21.1\n",
      "prompt_toolkit==3.0.50\n",
      "psutil==7.0.0\n",
      "pure_eval==0.2.3\n",
      "pycosat @ file:///C:/b/abs_18nblzzn70/croot/pycosat_1736868434419/work\n",
      "pycparser @ file:///tmp/build/80754af9/pycparser_1636541352034/work\n",
      "pydantic @ file:///C:/b/abs_27dx58x550/croot/pydantic_1734736090499/work\n",
      "pydantic_core @ file:///C:/b/abs_bdosz7qwys/croot/pydantic-core_1734726071532/work\n",
      "Pygments @ file:///C:/Users/dev-admin/perseverance-python-buildout/croot/pygments_1699474141968/work\n",
      "pyparsing==3.2.3\n",
      "PySocks @ file:///C:/Users/dev-admin/perseverance-python-buildout/croot/pysocks_1699473336188/work\n",
      "python-dateutil==2.9.0.post0\n",
      "python-json-logger==3.3.0\n",
      "pytz==2025.2\n",
      "pywin32==310\n",
      "pywinpty==2.0.15\n",
      "PyYAML==6.0.2\n",
      "pyzmq==26.3.0\n",
      "referencing==0.36.2\n",
      "requests @ file:///C:/b/abs_c3508vg8ez/croot/requests_1731000584867/work\n",
      "rfc3339-validator==0.1.4\n",
      "rfc3986-validator==0.1.1\n",
      "rich @ file:///C:/b/abs_8b92fzmygg/croot/rich_1732638991774/work\n",
      "rpds-py==0.23.1\n",
      "ruamel.yaml @ file:///C:/b/abs_0cunwx_ww6/croot/ruamel.yaml_1727980181547/work\n",
      "ruamel.yaml.clib @ file:///C:/b/abs_5fk8zi6n09/croot/ruamel.yaml.clib_1727769837359/work\n",
      "Send2Trash==1.8.3\n",
      "setuptools==75.8.0\n",
      "six==1.17.0\n",
      "sniffio==1.3.1\n",
      "soupsieve==2.6\n",
      "stack-data==0.6.3\n",
      "terminado==0.18.1\n",
      "tinycss2==1.4.0\n",
      "tornado==6.4.2\n",
      "tqdm @ file:///C:/b/abs_0eh9b6xugj/croot/tqdm_1738945553987/work\n",
      "traitlets==5.14.3\n",
      "truststore @ file:///C:/b/abs_494cm143zh/croot/truststore_1736550137835/work\n",
      "types-python-dateutil==2.9.0.20241206\n",
      "typing_extensions @ file:///C:/b/abs_0ffjxtihug/croot/typing_extensions_1734714875646/work\n",
      "tzdata==2025.2\n",
      "uri-template==1.3.0\n",
      "urllib3 @ file:///C:/b/abs_7bst06lizn/croot/urllib3_1737133657081/work\n",
      "wcwidth==0.2.13\n",
      "webcolors==24.11.1\n",
      "webencodings==0.5.1\n",
      "websocket-client==1.8.0\n",
      "wheel==0.45.1\n",
      "win-inet-pton @ file:///C:/Users/dev-admin/perseverance-python-buildout/croot/win_inet_pton_1699472992992/work\n",
      "zstandard @ file:///C:/b/abs_31t8xmrv_h/croot/zstandard_1731356578015/work\n",
      "\n",
      "종료\n"
     ]
    }
   ],
   "source": [
    "# with block을 이용할 수 있는 객체를 context manager라고 한다.\n",
    "with open(\"./a.txt\",\"rt\", encoding=\"utf-8\") as fr:\n",
    "    txt = fr.read()\n",
    "    print(txt)\n",
    "# with block이 끝나면 io.close()가 자동으로 실행된다.\n",
    "print(\"종료\")"
   ]
  },
  {
   "cell_type": "code",
   "execution_count": null,
   "metadata": {},
   "outputs": [],
   "source": []
  },
  {
   "cell_type": "markdown",
   "metadata": {},
   "source": [
    "# Binary Data 입출력\n",
    "\n",
    "## `bytes` type\n",
    "binary 데이터를 입출력하기 위한 타입.  \n",
    "파이썬의 하나의 출력함수로 다양한 데이터타입의 값을 출력하기 위해 **bytes 타입으로 변환** 해야 한다. \n",
    "또 binary 데이터를 읽을 경우 **bytes 타입**으로 반환한다. 이것을 저장 전 원래 타입으로 쓰기 위해서는 bytes에서 원래 타입으로 변환하는 작업이 필요하다.   "
   ]
  },
  {
   "cell_type": "code",
   "execution_count": null,
   "metadata": {},
   "outputs": [],
   "source": []
  },
  {
   "cell_type": "markdown",
   "metadata": {
    "slideshow": {
     "slide_type": "slide"
    }
   },
   "source": [
    "## pickle 모듈을 이용한 객체 직렬화\n",
    "- pickle 모듈: binary data 입출력을 도와주는 표준 라이브러리.\n",
    "\n",
    "### 객체 직렬화(Object Serialization)\n",
    "- 객체의 속성값들을 bytes로 변환해 출력하는 것을 객체 직렬화(Object Serialization) 이라고 한다.\n",
    "- bytes로 출력된 데이터를 읽어 객체화 하는 것을 객체 역직렬화(Object Deserialization) 이라고 한다."
   ]
  },
  {
   "cell_type": "code",
   "execution_count": null,
   "metadata": {},
   "outputs": [],
   "source": []
  },
  {
   "cell_type": "markdown",
   "metadata": {
    "slideshow": {
     "slide_type": "fragment"
    }
   },
   "source": [
    "### pickle 모듈\n",
    "- binary 모드로 출력하거나 입력받을 경우 **bytes**  타입으로 입출력을 진행한다.\n",
    "    - 그런데 각각의 타입이 변환하는 방식이 다르기때문에 입출력 코드가 복잡해 지는 문제가 있다. 이것을 추상화해서 binary 데이터 입출력을 쉽게 처리할 수 있게하는 표준모듈이 pickle이다.\n",
    "    - 파이썬의 모든 값은 객체 이므로 pickle은 객체 직렬화, 역직렬화를 위한 파이썬 표준모듈이다.\n",
    "\n",
    "- 저장시 파일 확장자는 보통 `pkl` 이나 `pickle` 로 한다.\n",
    "- ex)\n",
    "```python\n",
    "#### binary mode로 설정한다.\n",
    "fw = open(\"data.pkl\", \"wb\") # 객체를 pickle에 저장하기 위한 output stream 생성\n",
    "fr = open(\"data.pkl\", \"rb\") # 파일에 저장된 객체를 읽어오기 위한 input stream 생성\n",
    "```\n",
    "- **메소드**\n",
    "    - dump(저장할 객체, fw) : 출력\n",
    "    - load(fr): 입력 - 읽은 객체를 반환한다."
   ]
  },
  {
   "cell_type": "code",
<<<<<<< HEAD
   "execution_count": 4,
   "metadata": {},
=======
   "execution_count": 62,
   "metadata": {},
   "outputs": [],
   "source": [
    "import pickle\n",
    "\n",
    "num = 10 # int\n",
    "with open(\"int_data.pickle\", \"wb\") as fo:\n",
    "    # 피클로 저장(출력) -> dump(값, 출력stream)\n",
    "    pickle.dump(num, fo)\n",
    "    # num(int) -> bytes 변환 -> fo.write(byte)"
   ]
  },
  {
   "cell_type": "code",
   "execution_count": 64,
   "metadata": {},
   "outputs": [],
   "source": [
    "# 읽기\n",
    "import pickle\n",
    "with open(\"int_data.pickle\", \"rb\") as fi:\n",
    "    result = pickle.load(fi) # 읽기 -> load(입력stream)\n",
    "    # fi.read(): 반환-bytes -> 원래타입(int)로 변환해서 반환."
   ]
  },
  {
   "cell_type": "code",
   "execution_count": 65,
   "metadata": {},
   "outputs": [
    {
     "data": {
      "text/plain": [
       "(int, 10)"
      ]
     },
     "execution_count": 65,
     "metadata": {},
     "output_type": "execute_result"
    }
   ],
   "source": [
    "type(result), result"
   ]
  },
  {
   "cell_type": "code",
   "execution_count": null,
   "metadata": {},
   "outputs": [],
   "source": [
    "d = {\n",
    "    \"이름\":\"홍길동\",\n",
    "    \"나이\": 40,\n",
    "    \"주소\": \"서울\",\n",
    "    \"취미\": [\"게임\", \"운동\"],\n",
    "    \"특기\": (\"발표\", \"글쓰기\"),\n",
    "    \"결혼여부\": True\n",
    "}"
   ]
  },
  {
   "cell_type": "code",
   "execution_count": 75,
   "metadata": {},
   "outputs": [
    {
     "name": "stdout",
     "output_type": "stream",
     "text": [
      "이름: 이순신, 나이: 20\n"
     ]
    }
   ],
   "source": [
    "class Person:\n",
    "\n",
    "    def __init__(self, name, age):\n",
    "        self.name = name\n",
    "        self.age = age\n",
    "        \n",
    "    def __str__(self):\n",
    "        return f\"이름: {self.name}, 나이: {self.age}\"\n",
    "\n",
    "d = Person(\"이순신\", 20)\n",
    "print(d)"
   ]
  },
  {
   "cell_type": "code",
   "execution_count": 76,
   "metadata": {},
   "outputs": [],
   "source": [
    "with open(\"info.pickle\", \"wb\") as fo:\n",
    "    pickle.dump(d, fo)"
   ]
  },
  {
   "cell_type": "code",
   "execution_count": 77,
   "metadata": {},
   "outputs": [
    {
     "name": "stdout",
     "output_type": "stream",
     "text": [
      "<class '__main__.Person'>\n"
     ]
    }
   ],
   "source": [
    "with open(\"info.pickle\", \"rb\") as fi:\n",
    "    saved_info = pickle.load(fi)\n",
    "    print(type(saved_info))"
   ]
  },
  {
   "cell_type": "code",
   "execution_count": 79,
   "metadata": {},
   "outputs": [
    {
     "name": "stdout",
     "output_type": "stream",
     "text": [
      "이름: 이순신, 나이: 20\n"
     ]
    },
    {
     "data": {
      "text/plain": [
       "('이순신', 20)"
      ]
     },
     "execution_count": 79,
     "metadata": {},
     "output_type": "execute_result"
    }
   ],
   "source": [
    "print(saved_info)\n",
    "saved_info.name, saved_info.age"
   ]
  },
  {
   "cell_type": "code",
   "execution_count": 73,
   "metadata": {},
   "outputs": [
    {
     "data": {
      "text/plain": [
       "tuple"
      ]
     },
     "execution_count": 73,
     "metadata": {},
     "output_type": "execute_result"
    }
   ],
   "source": [
    "type(saved_info['특기'])"
   ]
  },
  {
   "cell_type": "code",
   "execution_count": null,
   "metadata": {
    "slideshow": {
     "slide_type": "fragment"
    }
   },
>>>>>>> adbdda0e1d89985f4defa8c8a437c99bc1991b97
   "outputs": [],
   "source": [
    "import pickle\n",
    "\n",
    "num = 10 # int\n",
    "with open(\"int_data.pickle\",\"wb\") as fo:\n",
    "    # 피클로 저장(출력) -> dump(값,출력stream)\n",
    "    pickle.dump(num, fo)\n",
    "    # num(int) -> bytes 변환 -> fo.write(byte)"
   ]
  },
  {
   "cell_type": "code",
   "execution_count": 31,
   "metadata": {},
   "outputs": [],
   "source": [
    "# 읽기\n",
    "import pickle\n",
    "with open(\"int_data.pickle\",\"rb\") as fi:\n",
    "    result = pickle.load(fi)  # 읽기 -> load(입력stream)"
   ]
  },
  {
   "cell_type": "code",
   "execution_count": 32,
   "metadata": {},
   "outputs": [
    {
     "data": {
      "text/plain": [
       "(int, 10)"
      ]
     },
     "execution_count": 32,
     "metadata": {},
     "output_type": "execute_result"
    }
   ],
   "source": [
    "type(result), result"
   ]
  },
  {
   "cell_type": "code",
   "execution_count": 33,
   "metadata": {},
   "outputs": [],
   "source": [
    "d = {\n",
    "    \"이름\": \"홍길동\",\n",
    "    \"나이\": 30,\n",
    "    \"주소\": \"안양\",\n",
    "    \"취미\": [\"게임\",\"운동\"],\n",
    "    \"특기\": (\"발표\", \"글쓰기\"),\n",
    "    \"결혼여부\": True\n",
    "}\n",
    "\n",
    "with open(\"info.pickle\", \"wb\") as fo:\n",
    "    pickle.dump(d, fo)"
   ]
  },
  {
   "cell_type": "code",
   "execution_count": 34,
   "metadata": {},
   "outputs": [
    {
     "name": "stdout",
     "output_type": "stream",
     "text": [
      "이름: 이순신, 나이: 20\n"
     ]
    }
   ],
   "source": [
    "class Person:\n",
    "\n",
    "    def __init__(self, name, age):\n",
    "        self.name = name\n",
    "        self.age = age\n",
    "\n",
    "    def __str__(self):\n",
    "        return f\"이름: {self.name}, 나이: {self.age}\"\n",
    "\n",
    "d = Person(\"이순신\", 20)\n",
    "print(d)"
   ]
  },
  {
   "cell_type": "code",
   "execution_count": 35,
   "metadata": {},
   "outputs": [
    {
     "name": "stdout",
     "output_type": "stream",
     "text": [
      "<class 'dict'>\n"
     ]
    }
   ],
   "source": [
    "with open(\"info.pickle\", \"rb\") as fi:\n",
    "    saved_info = pickle.load(fi)\n",
    "    print(type(saved_info))"
   ]
  },
  {
   "cell_type": "code",
   "execution_count": 36,
   "metadata": {},
   "outputs": [
    {
     "data": {
      "text/plain": [
       "tuple"
      ]
     },
     "execution_count": 36,
     "metadata": {},
     "output_type": "execute_result"
    }
   ],
   "source": [
    "type(saved_info[\"특기\"])"
   ]
  },
  {
   "cell_type": "markdown",
   "metadata": {
    "slideshow": {
     "slide_type": "skip"
    }
   },
   "source": [
    "# TODO"
   ]
  },
  {
   "cell_type": "markdown",
   "metadata": {
    "slideshow": {
     "slide_type": "skip"
    }
   },
   "source": [
    "- ## 간단한 CLI 기반 메모장\n",
    "    1. 사용자로부터 파일명을 입력받는다.  \n",
    "    2. 사용자로부터 파일에 저장할 문장을 입력받아서 파일에 저장한다.\n",
    "        - 한줄씩 입력받는다.\n",
    "        - 사용자가 !q 를 입력하면 저장후 종료한다.\n",
    "    3. 사용자가 저장한 파일을 읽어서 출력한다.\n"
   ]
  },
  {
   "cell_type": "code",
   "execution_count": null,
   "metadata": {},
   "outputs": [],
   "source": [
<<<<<<< HEAD
    "입력: input(\"저장할 파일명을 입력하세요:\")\n",
    "!q 전까지 계속 입력받아서 저장 - 반복문(while)\n",
    "저장: \"wt\"R"
=======
    "1. 사용자로부터 파일명을 입력받는다.  (X)\n",
    "2. 사용자로부터 파일에 저장할 문장을 입력받아서 파일에 저장한다.\n",
    "    - 한줄씩 입력받는다.\n",
    "    - 사용자가 !q 를 입력하면 저장후 종료한다.\n",
    "\n",
    "3. 사용자가 저장한 파일을 읽어서 출력한다."
>>>>>>> adbdda0e1d89985f4defa8c8a437c99bc1991b97
   ]
  },
  {
   "cell_type": "code",
<<<<<<< HEAD
   "execution_count": 44,
=======
   "execution_count": 83,
   "metadata": {
    "collapsed": true,
    "jupyter": {
     "outputs_hidden": true
    },
    "scrolled": true
   },
   "outputs": [
    {
     "name": "stdout",
     "output_type": "stream",
     "text": [
      "==========CLI 메모장============\n"
     ]
    },
    {
     "name": "stdin",
     "output_type": "stream",
     "text": [
      "저장할 파일경로: test.txt\n"
     ]
    },
    {
     "name": "stdout",
     "output_type": "stream",
     "text": [
      "==========저장할 내용을 한줄씩 입력하세요.===========\n"
     ]
    },
    {
     "name": "stdin",
     "output_type": "stream",
     "text": [
      ">> 안녕\n",
      ">> 11111\n",
      ">> alkdsjaflksdjfkl\n",
      ">> alskdjflkasd\n",
      ">> oixuoiuoisdfjlkasdfjl\n",
      ">> c,nmc,mvnmxvc\n",
      ">> ㅁㅣㅏㅓㅇ리ㅏㅁㄴ어리ㅏㅁㄴㅇㄹ\n",
      ">> !q\n"
     ]
    },
    {
     "name": "stdout",
     "output_type": "stream",
     "text": [
      "===========저장되었습니다.===========\n"
     ]
    }
   ],
   "source": [
    "print(\"==========CLI 메모장============\")\n",
    "file_path = input(\"저장할 파일경로:\")\n",
    "with open(file_path, \"wt\", encoding=\"utf-8\") as fw:\n",
    "    print(\"==========저장할 내용을 한줄씩 입력하세요.===========\")\n",
    "    while True:\n",
    "        txt = input(\">>\")\n",
    "        if txt == '!q':\n",
    "            break\n",
    "        fw.write(txt+\"\\n\")\n",
    "\n",
    "print(\"===========저장되었습니다.===========\")"
   ]
  },
  {
   "cell_type": "code",
   "execution_count": 84,
>>>>>>> adbdda0e1d89985f4defa8c8a437c99bc1991b97
   "metadata": {},
   "outputs": [
    {
     "name": "stdout",
     "output_type": "stream",
     "text": [
      "Writing simple_memo.py\n"
     ]
    }
   ],
   "source": [
    "%%writefile simple_memo.py\n",
    "\n",
<<<<<<< HEAD
    "print(\"=============CLI 메모장=============\")\n",
    "filename =input(\"저장할 파일명을 입력하세요:\")\n",
    "with open(filename, \"wt\", encoding=\"utf-8\") as fw:\n",
    "    print(\"=============저장할 내용을 한줄씩 입력하세요.=============\")\n",
    "    while True:\n",
    "        txt = input(\">>\")\n",
    "        if txt == \"!q\":\n",
    "            break    \n",
    "        fw.write(txt+\"\\n\")\n",
    "\n",
    "print(\"=============저장되었습니다.=============\") "
   ]
  },
  {
   "cell_type": "code",
   "execution_count": null,
   "metadata": {},
   "outputs": [],
   "source": []
=======
    "print(\"==========CLI 메모장============\")\n",
    "file_path = input(\"저장할 파일경로:\")\n",
    "with open(file_path, \"wt\", encoding=\"utf-8\") as fw:\n",
    "    print(\"==========저장할 내용을 한줄씩 입력하세요.===========\")\n",
    "    while True:\n",
    "        txt = input(\">>\")\n",
    "        if txt == '!q':\n",
    "            break\n",
    "        fw.write(txt+\"\\n\")\n",
    "\n",
    "print(\"===========저장되었습니다.===========\")"
   ]
>>>>>>> adbdda0e1d89985f4defa8c8a437c99bc1991b97
  }
 ],
 "metadata": {
  "kernelspec": {
   "display_name": "Python 3 (ipykernel)",
   "language": "python",
   "name": "python3"
  },
  "language_info": {
   "codemirror_mode": {
    "name": "ipython",
    "version": 3
   },
   "file_extension": ".py",
   "mimetype": "text/x-python",
   "name": "python",
   "nbconvert_exporter": "python",
   "pygments_lexer": "ipython3",
   "version": "3.12.9"
  },
  "toc": {
   "base_numbering": 1,
   "nav_menu": {},
   "number_sections": true,
   "sideBar": true,
   "skip_h1_title": false,
   "title_cell": "Table of Contents",
   "title_sidebar": "Contents",
   "toc_cell": false,
   "toc_position": {},
   "toc_section_display": true,
   "toc_window_display": false
  },
  "varInspector": {
   "cols": {
    "lenName": 16,
    "lenType": 16,
    "lenVar": 40
   },
   "kernels_config": {
    "python": {
     "delete_cmd_postfix": "",
     "delete_cmd_prefix": "del ",
     "library": "var_list.py",
     "varRefreshCmd": "print(var_dic_list())"
    },
    "r": {
     "delete_cmd_postfix": ") ",
     "delete_cmd_prefix": "rm(",
     "library": "var_list.r",
     "varRefreshCmd": "cat(var_dic_list()) "
    }
   },
   "types_to_exclude": [
    "module",
    "function",
    "builtin_function_or_method",
    "instance",
    "_Feature"
   ],
   "window_display": false
  }
 },
 "nbformat": 4,
 "nbformat_minor": 4
}
