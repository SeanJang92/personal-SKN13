{
 "cells": [
  {
   "cell_type": "code",
   "execution_count": 4,
   "id": "5baeef13-c9f0-4e6a-9b96-4a25142e2179",
   "metadata": {},
   "outputs": [
    {
     "name": "stderr",
     "output_type": "stream",
     "text": [
      "2025-04-09 16:37:41.617 WARNING streamlit.runtime.scriptrunner_utils.script_run_context: Thread 'MainThread': missing ScriptRunContext! This warning can be ignored when running in bare mode.\n",
      "2025-04-09 16:37:41.619 WARNING streamlit.runtime.scriptrunner_utils.script_run_context: Thread 'MainThread': missing ScriptRunContext! This warning can be ignored when running in bare mode.\n",
      "2025-04-09 16:37:41.762 \n",
      "  \u001b[33m\u001b[1mWarning:\u001b[0m to view this Streamlit app on a browser, run it with the following\n",
      "  command:\n",
      "\n",
      "    streamlit run C:\\Users\\In\\miniconda3\\Lib\\site-packages\\ipykernel_launcher.py [ARGUMENTS]\n",
      "2025-04-09 16:37:41.763 Thread 'MainThread': missing ScriptRunContext! This warning can be ignored when running in bare mode.\n",
      "2025-04-09 16:37:41.765 Thread 'MainThread': missing ScriptRunContext! This warning can be ignored when running in bare mode.\n",
      "2025-04-09 16:37:41.765 Thread 'MainThread': missing ScriptRunContext! This warning can be ignored when running in bare mode.\n",
      "2025-04-09 16:37:41.766 Thread 'MainThread': missing ScriptRunContext! This warning can be ignored when running in bare mode.\n",
      "2025-04-09 16:37:41.767 Thread 'MainThread': missing ScriptRunContext! This warning can be ignored when running in bare mode.\n",
      "2025-04-09 16:37:41.768 Thread 'MainThread': missing ScriptRunContext! This warning can be ignored when running in bare mode.\n",
      "2025-04-09 16:37:41.770 Thread 'MainThread': missing ScriptRunContext! This warning can be ignored when running in bare mode.\n",
      "2025-04-09 16:37:41.771 Thread 'MainThread': missing ScriptRunContext! This warning can be ignored when running in bare mode.\n",
      "2025-04-09 16:37:41.772 Thread 'MainThread': missing ScriptRunContext! This warning can be ignored when running in bare mode.\n",
      "2025-04-09 16:37:41.773 Thread 'MainThread': missing ScriptRunContext! This warning can be ignored when running in bare mode.\n",
      "2025-04-09 16:37:41.774 Thread 'MainThread': missing ScriptRunContext! This warning can be ignored when running in bare mode.\n",
      "2025-04-09 16:37:41.774 Thread 'MainThread': missing ScriptRunContext! This warning can be ignored when running in bare mode.\n",
      "2025-04-09 16:37:41.775 Thread 'MainThread': missing ScriptRunContext! This warning can be ignored when running in bare mode.\n",
      "2025-04-09 16:37:41.776 Thread 'MainThread': missing ScriptRunContext! This warning can be ignored when running in bare mode.\n",
      "2025-04-09 16:37:41.777 Thread 'MainThread': missing ScriptRunContext! This warning can be ignored when running in bare mode.\n",
      "2025-04-09 16:37:41.779 Thread 'MainThread': missing ScriptRunContext! This warning can be ignored when running in bare mode.\n",
      "2025-04-09 16:37:41.780 Thread 'MainThread': missing ScriptRunContext! This warning can be ignored when running in bare mode.\n",
      "2025-04-09 16:37:41.781 Thread 'MainThread': missing ScriptRunContext! This warning can be ignored when running in bare mode.\n",
      "2025-04-09 16:37:41.782 Thread 'MainThread': missing ScriptRunContext! This warning can be ignored when running in bare mode.\n",
      "2025-04-09 16:37:41.782 Thread 'MainThread': missing ScriptRunContext! This warning can be ignored when running in bare mode.\n",
      "2025-04-09 16:37:41.782 Thread 'MainThread': missing ScriptRunContext! This warning can be ignored when running in bare mode.\n",
      "2025-04-09 16:37:41.783 Thread 'MainThread': missing ScriptRunContext! This warning can be ignored when running in bare mode.\n",
      "2025-04-09 16:37:41.784 Thread 'MainThread': missing ScriptRunContext! This warning can be ignored when running in bare mode.\n",
      "2025-04-09 16:37:41.784 Thread 'MainThread': missing ScriptRunContext! This warning can be ignored when running in bare mode.\n",
      "2025-04-09 16:37:41.786 Thread 'MainThread': missing ScriptRunContext! This warning can be ignored when running in bare mode.\n"
     ]
    },
    {
     "data": {
      "text/plain": [
       "DeltaGenerator()"
      ]
     },
     "execution_count": 4,
     "metadata": {},
     "output_type": "execute_result"
    }
   ],
   "source": [
    "import streamlit as st\n",
    "\n",
    "# 페이지 설정\n",
    "st.set_page_config(page_title=\"연두색 번호판 FAQ\", page_icon=\"🚘\", layout=\"centered\")\n",
    "\n",
    "# 헤더\n",
    "st.title(\"'연두색 번호판' 정책 관련 자주 묻는 질문\")\n",
    "st.markdown(\"\"\"\n",
    "            고가 법인차량 대상 연두색 번호판 도입 정책관련, 문의 내용을 정리했습니다.\n",
    "            \"\"\")\n",
    "\n",
    "# FAQ 섹션\n",
    "with st.expander(\"Q1. 연두색 번호판은 어떤 차량에 부착되나요??\"):\n",
    "    st.markdown(\"\"\"\n",
    "                **A:** 8000만원 이상의 법인 차량이 주요 대상이며, \n",
    "                1년 미만의 단기렌트 차량은 제외 됩니다.\n",
    "                \"\"\")\n",
    "\n",
    "with st.expander(\"Q2. 법인차량에 연두색 번호판을 도입한 목적은 무엇인가요?\"):\n",
    "    st.markdown(\"\"\"\n",
    "                **A:** 고가의 수입차를 법인 명의로 등록 후 가족이나 개인 용도로 사용하는 편법이 많아지면서,  \n",
    "                업무 비용처리에 의한 탈세 및 과세 형평성 문제를 막기 위해 제도를 도입하였습니다.  \n",
    "                \"\"\")\n",
    "\n",
    "with st.expander(\"Q3. 법인차로 등록할 때 취득가를 낮춰서 신고하면 어떻게 되나요?\"):\n",
    "    st.markdown(\"\"\"\n",
    "                **A:** 의도적으로 취득가를 낮춰 신고하면 세무조사 대상이 되며,  \n",
    "                실제보다 낮은 가격으로 신고했을 경우 가산세 등 불이익을 받을 수 있습니다.  \n",
    "                \"\"\")\n",
    "\n",
    "with st.expander(\"Q4. 연두색 번호판을 단 법인차량을 사적으로 사용할 경우 어떻게 되나요?\"):\n",
    "    st.markdown(\"\"\"\n",
    "                **A:** 사적 사용이 적발되면 법인세 관련 불이익과 더불어 세금 추징 및 과태료가 부과될 수 있습니다.  \n",
    "                정부는 운행기록부 점검을 통해 단속할 계획입니다.  \n",
    "                \"\"\")\n",
    "\n",
    "with st.expander(\"Q5. 정책 시행 이후 어떤 변화가 있었나요?\"):\n",
    "    st.markdown(\"\"\"\n",
    "                **A:** 2024년 정책 시행 이후 고가 법인차의 등록률이 감소했으며,  \n",
    "                일부 브랜드는 전년 대비 30~40% 등록 감소를 보였습니다.\n",
    "                \"\"\")\n",
    "\n",
    "with st.expander(\"Q6. 연두색 번호판을 신고하면 포상금이 있나요?\"):\n",
    "    st.markdown(\"\"\"\n",
    "                **A:** 네. 국기법 제84조 제2항에 따라 사적 이용 적발 시 일정 기준에 따라 **포상금**이 지급될 수 있습니다.  \n",
    "                다만, 금액은 관할 지자체 및 신고 상황에 따라 다를 수 있습니다.\n",
    "                \"\"\")\n",
    "\n",
    "# 마무리 문구\n",
    "st.divider()\n",
    "st.info(\"추가적인 문의사항은 개인적으로 요청하시면 추후에 답변드리도록 하겠습니다. 감사합니다.\")"
   ]
  }
 ],
 "metadata": {
  "kernelspec": {
   "display_name": "Python 3 (ipykernel)",
   "language": "python",
   "name": "python3"
  },
  "language_info": {
   "codemirror_mode": {
    "name": "ipython",
    "version": 3
   },
   "file_extension": ".py",
   "mimetype": "text/x-python",
   "name": "python",
   "nbconvert_exporter": "python",
   "pygments_lexer": "ipython3",
   "version": "3.12.9"
  }
 },
 "nbformat": 4,
 "nbformat_minor": 5
}
